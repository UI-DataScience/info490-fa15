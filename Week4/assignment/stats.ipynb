{
 "cells": [
  {
   "cell_type": "markdown",
   "metadata": {
    "deletable": false,
    "nbgrader": {
     "checksum": "41a30ab8ea0a3c800ba0e101da71ec81",
     "grade": false,
     "grade_id": "header",
     "locked": true,
     "solution": false
    }
   },
   "source": [
    "Before you turn this problem in, make sure everything runs as expected. First, restart the kernel (in the menubar, select Kernel → Restart) and then run all cells (in the menubar, select Cell → Run All).\n",
    "\n",
    "Make sure you fill in any place that says YOUR CODE HERE.\n",
    "Do not write your answer in anywhere else other than where it says YOUR CODE HERE.\n",
    "\n",
    "First, write your name and NetID below:"
   ]
  },
  {
   "cell_type": "code",
   "execution_count": 13,
   "metadata": {
    "collapsed": true
   },
   "outputs": [],
   "source": [
    "NAME = 'Daniel Moser'\n",
    "NETID = 'dmoser2'"
   ]
  },
  {
   "cell_type": "markdown",
   "metadata": {
    "deletable": false,
    "nbgrader": {
     "checksum": "5916f319b550aac91b3c365d9250ac4e",
     "grade": false,
     "grade_id": "instructions_0",
     "locked": true,
     "solution": false
    }
   },
   "source": [
    "# Problem 4.1. Simple Statistics.\n",
    "\n",
    "In this problem, you will write a function that calculates the minimum, maximum, mean, and median values from a list of integers. Before writing the final function, I will break the problem into small steps so the autograder can give partial credit. In practice, you would probably write just one function `get_stats()` and be done.\n",
    "\n",
    "## Function: get\\_minimum()\n",
    "\n",
    "- In the following code cell, write a function named `get_minimum()` that takes a list and returns the minimum value of that list. The return value should be an integer.\n",
    "\n",
    "Tips:\n",
    "\n",
    "- You might want to use [sorted()](https://docs.python.org/3/library/functions.html#sorted) to handle an unordered list.\n",
    "- You may ignore any tips as long as your function does what it's supposed to, i.e. takes the specified argument(s) of the correct type(s) and returns the right values of the correct type(s). If your function passes the unit tests, your function is correct no matter which method you use."
   ]
  },
  {
   "cell_type": "code",
   "execution_count": 14,
   "metadata": {
    "collapsed": true,
    "deletable": false,
    "nbgrader": {
     "checksum": "621a66e0f8976cacb65a10fd736a34ad",
     "grade": false,
     "grade_id": "get_minimum_answer",
     "locked": false,
     "solution": true
    }
   },
   "outputs": [],
   "source": [
    "def get_minimum(input_list):\n",
    "    '''\n",
    "    Accepts a list of integers, and returns the minimum of the list.\n",
    "    \n",
    "    Parameters\n",
    "    ----------\n",
    "    input_list: A list of integers.\n",
    "      \n",
    "    Returns\n",
    "    -------\n",
    "    minimum: An integer. The minimum of input_list.\n",
    "    '''\n",
    "    \n",
    "    # assume we are not using built-in min() Python function for the sake of the exercise\n",
    "    # else minimum = min(input_list) would be sufficient\n",
    "    \n",
    "    # check the list to ensure only integer input\n",
    "    for i in input_list:\n",
    "        if not isinstance(i, int):\n",
    "            print(\"Elements in list are not all integers. Aborting...\")\n",
    "            return\n",
    "        \n",
    "    # after successful check, sort list from lowest to greatest\n",
    "    # use sorted() function to ensure the input_list is not modified and that new list is created\n",
    "    temp_list = sorted(input_list)\n",
    "\n",
    "    # first element of sorted list is now minimum\n",
    "    minimum = temp_list[0]\n",
    "    \n",
    "    return minimum\n"
   ]
  },
  {
   "cell_type": "code",
   "execution_count": 15,
   "metadata": {
    "collapsed": false,
    "deletable": false,
    "nbgrader": {
     "checksum": "6c46f92dc83bdfbbba514522b975c449",
     "grade": true,
     "grade_id": "get_minimum_test",
     "locked": true,
     "points": 6,
     "solution": false
    }
   },
   "outputs": [],
   "source": [
    "from nose.tools import assert_equal\n",
    "assert_equal(get_minimum([0, 1, 2, 3, 4]), 0)\n",
    "assert_equal(get_minimum([1, 2, 3, 4]), 1)\n",
    "assert_equal(get_minimum([4, 3, 2, 1, 0]), 0)\n",
    "assert_equal(get_minimum([4, 1, 0, 2, 3]), 0)\n",
    "assert_equal(get_minimum(list(range(100))), 0)\n",
    "assert_equal(get_minimum(list(range(1, 100))), 1)"
   ]
  },
  {
   "cell_type": "markdown",
   "metadata": {
    "deletable": false,
    "nbgrader": {
     "checksum": "e5979e1bde50a1a5ea2cfd4f67d9cbe1",
     "grade": false,
     "grade_id": "instruction_1",
     "locked": true,
     "solution": false
    }
   },
   "source": [
    "## Function: get\\_maximum()\n",
    "\n",
    "- In the following code cell, write a function named `get_maximum()` that takes a list and returns the maxium value of that list. The return value should be an integer."
   ]
  },
  {
   "cell_type": "code",
   "execution_count": 16,
   "metadata": {
    "collapsed": true,
    "deletable": false,
    "nbgrader": {
     "checksum": "dbbc44a7e993f4d1338197f637e57aa4",
     "grade": false,
     "grade_id": "get_maximum_answer",
     "locked": false,
     "solution": true
    }
   },
   "outputs": [],
   "source": [
    "def get_maximum(input_list):\n",
    "    '''\n",
    "    Accepts a list of integers, and returns the maximum of the list.\n",
    "    \n",
    "    Parameters\n",
    "    ----------\n",
    "    input_list: A list of integers.\n",
    "      \n",
    "    Returns\n",
    "    -------\n",
    "    maximum: An integer. The maximum of input_list.\n",
    "    '''\n",
    "    \n",
    "    # assume we are not using built-in max() Python function for the sake of the exercise\n",
    "    # else maximum = max(input_list) would be sufficient\n",
    "    \n",
    "    # check the list to ensure only integer input\n",
    "    for i in input_list:\n",
    "        if not isinstance(i, int):\n",
    "            print(\"Elements in list are not all integers. Aborting...\")\n",
    "            return\n",
    "        \n",
    "    # after successful check, sort list from lowest to greatest\n",
    "    # use sorted() function to ensure the input_list is not modified and that new list is created\n",
    "    temp_list = sorted(input_list)\n",
    "\n",
    "    # last element of sorted list is now maximum\n",
    "    maximum = temp_list[-1]\n",
    "\n",
    "    return maximum\n"
   ]
  },
  {
   "cell_type": "code",
   "execution_count": 17,
   "metadata": {
    "collapsed": false
   },
   "outputs": [
    {
     "name": "stdout",
     "output_type": "stream",
     "text": [
      "6\n",
      "[6, 5, 4, 3, 2, 1]\n"
     ]
    }
   ],
   "source": [
    "input_list  = [6,5,4,3,2,1]\n",
    "print(get_maximum(input_list))\n",
    "print(input_list)"
   ]
  },
  {
   "cell_type": "code",
   "execution_count": 18,
   "metadata": {
    "collapsed": false,
    "deletable": false,
    "nbgrader": {
     "checksum": "0728ebe84780214b0bda1c567decc279",
     "grade": true,
     "grade_id": "get_maximum_test",
     "locked": true,
     "points": 6,
     "solution": false
    }
   },
   "outputs": [],
   "source": [
    "assert_equal(get_maximum([0, 1, 2, 3, 4]), 4)\n",
    "assert_equal(get_maximum([0, 1, 2, 3]), 3)\n",
    "assert_equal(get_maximum([4, 3, 2, 1, 0]), 4)\n",
    "assert_equal(get_maximum([3, 4, 0, 2, 1]), 4)\n",
    "assert_equal(get_maximum(list(range(100))), 99)"
   ]
  },
  {
   "cell_type": "markdown",
   "metadata": {
    "deletable": false,
    "nbgrader": {
     "checksum": "b5587b2a420f9d7d27a750939c01dfd5",
     "grade": false,
     "grade_id": "instruction_2",
     "locked": true,
     "solution": false
    }
   },
   "source": [
    "## Function: get\\_mean()\n",
    "\n",
    "- In the following code cell, write a function named `get_mean()` that takes a list and returns the mean value of that list. The return value should be a float."
   ]
  },
  {
   "cell_type": "code",
   "execution_count": 19,
   "metadata": {
    "collapsed": true,
    "deletable": false,
    "nbgrader": {
     "checksum": "7f4df1f387710836f73fb48746cd36ee",
     "grade": false,
     "grade_id": "get_mean_answer",
     "locked": false,
     "points": 4,
     "solution": true
    }
   },
   "outputs": [],
   "source": [
    "def get_mean(input_list):\n",
    "    '''\n",
    "    Accepts a list of integers, and returns the mean of the list.\n",
    "    \n",
    "    Parameters\n",
    "    ----------\n",
    "    input_list: A list of integers.\n",
    "      \n",
    "    Returns\n",
    "    -------\n",
    "    mean: A float. The mean of input_list.\n",
    "    '''\n",
    "    \n",
    "    # assume we are not using NumPy to do this for us ;)\n",
    "    \n",
    "    # check the list to ensure only integer input\n",
    "    for i in input_list:\n",
    "        if not isinstance(i, int):\n",
    "            print(\"Elements in list are not all integers. Aborting...\")\n",
    "            return\n",
    "        \n",
    "    # mean = (sum of elements)/(number of elements)\n",
    "    num = sum(input_list)   #use sum() function to sum all elements for numerator\n",
    "    den = len(input_list)   #use len() function to count all elements for denominator\n",
    "    \n",
    "    mean = float(num/den)   #ensure float result\n",
    "    \n",
    "    return mean\n"
   ]
  },
  {
   "cell_type": "code",
   "execution_count": 20,
   "metadata": {
    "collapsed": false,
    "deletable": false,
    "nbgrader": {
     "checksum": "980a444de0431e72d6ce06d3ab0a5536",
     "grade": true,
     "grade_id": "get_mean_test",
     "locked": true,
     "points": 6,
     "solution": false
    }
   },
   "outputs": [],
   "source": [
    "assert_equal(get_mean([0, 1, 2, 3]), 1.5)\n",
    "assert_equal(get_mean([0, 1, 2, 3, 4]), 2.0)\n",
    "assert_equal(get_mean([2, 0, 3, 1]), 1.5)\n",
    "assert_equal(get_mean([1, 3, 4, 2, 0]), 2.0)\n",
    "assert_equal(get_mean(list(range(0, 101))), 50.0)\n",
    "assert_equal(get_mean(list(range(1, 100))), 50.0)"
   ]
  },
  {
   "cell_type": "markdown",
   "metadata": {
    "deletable": false,
    "nbgrader": {
     "checksum": "1efb15e1403b2342da41c193e4a9e575",
     "grade": false,
     "grade_id": "instructions_3",
     "locked": true,
     "solution": false
    }
   },
   "source": [
    "## Function: get\\_median()\n",
    "\n",
    "- In the following code cell, write a function named `get_median()` that takes a list and returns the median value of that list. The return value should be a float.\n",
    "\n",
    "Tips:\n",
    "\n",
    "- If there is an even number of values in the list, there is no single middle value; in this case, take the median to be the mean of the two middle values."
   ]
  },
  {
   "cell_type": "code",
   "execution_count": 21,
   "metadata": {
    "collapsed": false,
    "deletable": false,
    "nbgrader": {
     "checksum": "52d2a145edfaeb165e5833850a78743e",
     "grade": false,
     "grade_id": "get_median_answer",
     "locked": false,
     "points": 4,
     "solution": true
    }
   },
   "outputs": [],
   "source": [
    "def get_median(input_list):\n",
    "    '''\n",
    "    Accepts a list of integers, and returns the median of the list.\n",
    "    \n",
    "    Parameters\n",
    "    ----------\n",
    "    input_list: A list of integers.\n",
    "      \n",
    "    Returns\n",
    "    -------\n",
    "    median: A float. The median of input_list.\n",
    "            If there is an even number of values in the list,\n",
    "            there is no single middle value.\n",
    "            In this case, take the median to be the mean of the two middle values.\n",
    "\n",
    "    '''\n",
    "    \n",
    "    # check the list to ensure only integer input\n",
    "    for i in input_list:\n",
    "        if not isinstance(i, int):\n",
    "            print(\"Elements in list are not all integers. Aborting...\")\n",
    "            return\n",
    "        \n",
    "    # sort list and store length of list\n",
    "    temp_list = sorted(input_list)\n",
    "    size = len(temp_list)\n",
    "    \n",
    "    # determine whether length of list is even or odd\n",
    "    # if even number of elements, then True, else False \n",
    "    if ( size % 2 ) == 0:     \n",
    "        even = True\n",
    "    else:\n",
    "        even = False\n",
    "        \n",
    "    # compute median based on whether list is even or odd\n",
    "        \n",
    "    if even == True: # even case -- requires mean of two middle elements\n",
    "        mid1 = temp_list[int(size/2 - 1)]  # 1st middle element\n",
    "        mid2 = temp_list[int(-size/2)]     # 2nd middle element\n",
    "        mid_list = [int(mid1),int(mid2)]   # integer list of two middle elements\n",
    "        median = get_mean(mid_list)        # returns mean of two middle elements as mean -- as float       \n",
    "            \n",
    "    if even == False: # odd case -- only one middle element\n",
    "        median = float(temp_list[int(size/2-0.5)]) # finds middle element as float      \n",
    "\n",
    "    return median\n"
   ]
  },
  {
   "cell_type": "code",
   "execution_count": 22,
   "metadata": {
    "collapsed": false,
    "deletable": false,
    "nbgrader": {
     "checksum": "66862bd35a286941b35736116ecae793",
     "grade": true,
     "grade_id": "get_median_test",
     "locked": true,
     "points": 6,
     "solution": false
    }
   },
   "outputs": [],
   "source": [
    "assert_equal(get_median([0, 1, 2, 3, 4]), 2.0)\n",
    "assert_equal(get_median([4, 1, 3, 2, 0]), 2.0)\n",
    "assert_equal(get_median([0, 1, 2, 3, 4, 5]), 2.5)\n",
    "assert_equal(get_median([3, 4, 2, 1, 5, 0]), 2.5)\n",
    "assert_equal(get_median(list(range(0, 101))), 50.0)\n",
    "assert_equal(get_median(list(range(1, 101))), 50.5)"
   ]
  },
  {
   "cell_type": "markdown",
   "metadata": {
    "deletable": false,
    "nbgrader": {
     "checksum": "44c5d925b54b91f318c40ebb1387b963",
     "grade": false,
     "grade_id": "instructions_5",
     "locked": true,
     "solution": false
    }
   },
   "source": [
    "## Function: get\\_stats()\n",
    "\n",
    "- Write a function named `get_stats()` takes one argument, which should be a list of integers, and returns a tuple `(minimum, maximum, mean, median)`. The minimum and maximum values can be integers, but mean and median must be returned as floats."
   ]
  },
  {
   "cell_type": "code",
   "execution_count": 23,
   "metadata": {
    "collapsed": false,
    "deletable": false,
    "nbgrader": {
     "checksum": "5abff1b5f089d3e03aa426213578047a",
     "grade": false,
     "grade_id": "get_stats_answer",
     "locked": false,
     "solution": true
    }
   },
   "outputs": [],
   "source": [
    "def get_stats(input_list):\n",
    "    '''\n",
    "    Accepts a list of integers, and returns a tuple of four numbers:\n",
    "    minimum(int), maximum(int), mean(float), and median(float)\n",
    "    \n",
    "    Parameters\n",
    "    ----------\n",
    "    input_list: A list of integers.\n",
    "      \n",
    "    Returns\n",
    "    -------\n",
    "    minimum: An integer. The minimum of input_list.\n",
    "    maximum: An integer. The maximum of input_list.\n",
    "    mean: A float. The mean of input_list.\n",
    "    median: A float. The median of input_list.\n",
    "            If there is an even number of values in the list,\n",
    "            there is no single middle value.\n",
    "            In this case, take the median to be the mean of the two middle values.\n",
    "    '''\n",
    "    \n",
    "    # will demonstrate use of all previously defined functions\n",
    "    \n",
    "    # a_tuple is a tuple containing return values of all defined functions called on input_list\n",
    "    a_tuple = ( get_minimum(input_list), get_maximum(input_list), get_mean(input_list), get_median(input_list) )\n",
    "    \n",
    "    return a_tuple\n"
   ]
  },
  {
   "cell_type": "code",
   "execution_count": 24,
   "metadata": {
    "collapsed": false,
    "deletable": false,
    "nbgrader": {
     "checksum": "af91cd99f380c159b216ee66a58fc61d",
     "grade": true,
     "grade_id": "get_stats_test",
     "locked": true,
     "points": 6,
     "solution": false
    }
   },
   "outputs": [],
   "source": [
    "assert_equal(get_stats(list(range(51))), (0, 50, 25.0, 25.0))\n",
    "assert_equal(get_stats(list(range(52))), (0, 51, 25.5, 25.5))\n",
    "\n",
    "from random import shuffle\n",
    "test_list = list(range(51))\n",
    "shuffle(test_list)\n",
    "assert_equal(get_stats(test_list), (0, 50, 25.0, 25.0))\n",
    "\n",
    "test_list = list(range(52))\n",
    "shuffle(test_list)\n",
    "assert_equal(get_stats(test_list), (0, 51, 25.5, 25.5))"
   ]
  }
 ],
 "metadata": {
  "kernelspec": {
   "display_name": "Python 3",
   "language": "python",
   "name": "python3"
  },
  "language_info": {
   "codemirror_mode": {
    "name": "ipython",
    "version": 3
   },
   "file_extension": ".py",
   "mimetype": "text/x-python",
   "name": "python",
   "nbconvert_exporter": "python",
   "pygments_lexer": "ipython3",
   "version": "3.4.0"
  }
 },
 "nbformat": 4,
 "nbformat_minor": 0
}
